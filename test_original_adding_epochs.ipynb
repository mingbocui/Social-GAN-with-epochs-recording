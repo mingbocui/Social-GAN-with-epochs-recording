{
 "cells": [
  {
   "cell_type": "code",
   "execution_count": null,
   "metadata": {},
   "outputs": [],
   "source": [
    "%run scripts/train.py \\\n",
    "--decoder_h_dim_g 16 \\\n",
    "--print_every 100 \\\n",
    "--l2_loss_weight 0 \\\n",
    "--use_gpu 1 \\\n",
    "--num_samples_check 5000 \\\n",
    "--loader_num_workers 4 \\\n",
    "--d_learning_rate 0.00001 \\\n",
    "--embedding_dim 16 \\\n",
    "--dropout 0.0 \\\n",
    "--dataset_name eth \\\n",
    "--pooling_type none \\\n",
    "--clipping_threshold_g 2 \\\n",
    "--num_layers 1 \\\n",
    "--clipping_threshold_d 0 \\\n",
    "--best_k 1 \\\n",
    "--g_steps 1 \\\n",
    "--checkpoint_name checkpoint \\\n",
    "--noise_mix_type global \\\n",
    "--encoder_h_dim_d 32 \\\n",
    "--pred_len 8 \\\n",
    "--delim tab \\\n",
    "--noise_type gaussian \\\n",
    "--d_type global \\\n",
    "--restore_from_checkpoint 1 \\\n",
    "--batch_norm 0 \\\n",
    "--batch_size 64 \\\n",
    "--timing 0 \\\n",
    "--noise_dim 4 \\\n",
    "--encoder_h_dim_g 16 \\\n",
    "--grid_size 8 \\\n",
    "--skip 1 \\\n",
    "--num_epochs 100 \\\n",
    "--pool_every_timestep 0 \\\n",
    "--gpu_num 0 \\\n",
    "--bottleneck_dim 8 \\\n",
    "--mlp_dim 32 \\\n",
    "--d_steps 1 \\\n",
    "--checkpoint_every 10 \\\n",
    "--neighborhood_size 2.0 \\\n",
    "--obs_len 8 \\\n",
    "--g_learning_rate 0.00001\\"
   ]
  },
  {
   "cell_type": "code",
   "execution_count": null,
   "metadata": {},
   "outputs": [],
   "source": [
    "%run scripts/train.py \\\n",
    "--decoder_h_dim_g 64 \\\n",
    "--print_every 100 \\\n",
    "--l2_loss_weight 0.0 \\\n",
    "--use_gpu 1 \\\n",
    "--num_samples_check 5000 \\\n",
    "--loader_num_workers 4 \\\n",
    "--d_learning_rate 0.001 \\\n",
    "--embedding_dim 16 \\\n",
    "--dropout 0.0 \\\n",
    "--dataset_name eth \\\n",
    "--pooling_type pool_net \\\n",
    "--clipping_threshold_g 2 \\\n",
    "--num_layers 1 \\\n",
    "--clipping_threshold_d 0 \\\n",
    "--best_k 20 \\\n",
    "--g_steps 1 \\\n",
    "--checkpoint_name checkpoint \\\n",
    "--noise_mix_type global \\\n",
    "--encoder_h_dim_d 48 \\\n",
    "--pred_len 8 \\\n",
    "--delim tab \\\n",
    "--noise_type gaussian \\\n",
    "--d_type global \\\n",
    "--restore_from_checkpoint 1 \\\n",
    "--batch_norm 0 \\\n",
    "--batch_size 64 \\\n",
    "--timing 0 \\\n",
    "--noise_dim 8 \\\n",
    "--encoder_h_dim_g 32 \\\n",
    "--grid_size 8 \\\n",
    "--skip 1 \\\n",
    "--num_epochs 50 \\\n",
    "--pool_every_timestep 0 \\\n",
    "--gpu_num 0 \\\n",
    "--bottleneck_dim 8 \\\n",
    "--mlp_dim 64 \\ #64\n",
    "--d_steps 1 \\\n",
    "--checkpoint_every 10 \\\n",
    "--neighborhood_size 2.0 \\\n",
    "--obs_len 8 \\\n",
    "--g_learning_rate 0.0001\\"
   ]
  },
  {
   "cell_type": "code",
   "execution_count": null,
   "metadata": {},
   "outputs": [],
   "source": [
    "from plot_metrics import plot_train_val_ade\n",
    "checkpoint = torch.load('checkpoint_with_model.pt')\n",
    "plot_train_val_ade(checkpoint)"
   ]
  },
  {
   "cell_type": "code",
   "execution_count": null,
   "metadata": {},
   "outputs": [],
   "source": [
    "# ! python plot.py --model_path models/sgan-models/01\n",
    "# %run scripts/evaluate_model.py --model_path models/sgan-models\n",
    "# %run scripts/evaluate_model.py --model_path models/sgan-p-models"
   ]
  },
  {
   "cell_type": "code",
   "execution_count": 2,
   "metadata": {},
   "outputs": [
    {
     "name": "stdout",
     "output_type": "stream",
     "text": [
      "Dataset: zara2, Pred Len: 12, ADE: 0.36, FDE: 0.72\n"
     ]
    }
   ],
   "source": [
    "%run scripts/evaluate_model.py --model_path checkpoint_with_model.pt"
   ]
  },
  {
   "cell_type": "code",
   "execution_count": 3,
   "metadata": {},
   "outputs": [
    {
     "name": "stdout",
     "output_type": "stream",
     "text": [
      "Dataset: hotel, Pred Len: 8, ADE: 0.38, FDE: 0.73\n"
     ]
    }
   ],
   "source": [
    "%run scripts/evaluate_model.py --model_path 'models/sgan-p-models/hotel_8_model.pt'"
   ]
  },
  {
   "cell_type": "code",
   "execution_count": 11,
   "metadata": {},
   "outputs": [
    {
     "name": "stdout",
     "output_type": "stream",
     "text": [
      "Dataset: eth, Pred Len: 12, ADE: 0.73, FDE: 1.28\n"
     ]
    }
   ],
   "source": [
    "%run scripts/evaluate_model.py --model_path 'ORIGINAL/checkpoint_with_model.pt'"
   ]
  },
  {
   "cell_type": "code",
   "execution_count": 2,
   "metadata": {},
   "outputs": [
    {
     "data": {
      "image/png": "[encoded data removed]",
      "text/plain": [
       "<Figure size 432x288 with 1 Axes>"
      ]
     },
     "metadata": {},
     "output_type": "display_data"
    }
   ],
   "source": [
    "import numpy as np\n",
    "import torch\n",
    "import matplotlib.pyplot as plt\n",
    "torch.manual_seed(1)\n",
    "%matplotlib inline\n",
    "path = 'checkpoint_with_model.pt'\n",
    "checkpoint = torch.load(path)\n",
    "def plot_train_val(checkpoint):\n",
    "    \n",
    "    train_ade = checkpoint['metrics_train_epoch']['fde']\n",
    "    val_ade = checkpoint['metrics_val_epoch']['fde']\n",
    "    x_axix = [i for i in range(len(train_ade))]\n",
    "    sub_axix = x_axix\n",
    "    plt.title('ADE(Average Displacement Error) comparision iterating epochs')\n",
    "    plt.plot(x_axix, train_ade, color='green', label='train_ade')\n",
    "    plt.plot(sub_axix, val_ade, color='red', label='go_up_bitch_val_ade')\n",
    "    plt.legend() \n",
    "    plt.xlabel('epochs')\n",
    "    plt.ylabel('ADE')\n",
    "    plt.show()\n",
    "    \n",
    "plot_train_val(checkpoint)"
   ]
  },
  {
   "cell_type": "code",
   "execution_count": 3,
   "metadata": {},
   "outputs": [],
   "source": [
    "checkpoint['args']['num_epochs']=80"
   ]
  },
  {
   "cell_type": "code",
   "execution_count": null,
   "metadata": {},
   "outputs": [],
   "source": [
    "checkpoint['counters']['epoch'] = 80"
   ]
  },
  {
   "cell_type": "code",
   "execution_count": null,
   "metadata": {},
   "outputs": [],
   "source": [
    "checkpoint['args']['num_iterations']"
   ]
  },
  {
   "cell_type": "code",
   "execution_count": 4,
   "metadata": {},
   "outputs": [],
   "source": [
    "torch.save(checkpoint,'checkpoint_with_model.pt')"
   ]
  },
  {
   "cell_type": "code",
   "execution_count": null,
   "metadata": {},
   "outputs": [],
   "source": []
  }
 ],
 "metadata": {
  "kernelspec": {
   "display_name": "Python 2",
   "language": "python",
   "name": "python2"
  },
  "language_info": {
   "codemirror_mode": {
    "name": "ipython",
    "version": 3
   },
   "file_extension": ".py",
   "mimetype": "text/x-python",
   "name": "python",
   "nbconvert_exporter": "python",
   "pygments_lexer": "ipython3",
   "version": "3.5.5"
  }
 },
 "nbformat": 4,
 "nbformat_minor": 2
}
