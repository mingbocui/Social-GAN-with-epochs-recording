{
 "cells": [
  {
   "cell_type": "code",
   "execution_count": null,
   "metadata": {},
   "outputs": [],
   "source": [
    "#! python -m trajnettools.summarize 'biwi_hotel.ndjson'"
   ]
  },
  {
   "cell_type": "code",
   "execution_count": 2,
   "metadata": {},
   "outputs": [
    {
     "data": {
      "image/png": "[encoded data removed]",
      "text/plain": [
       "<Figure size 432x288 with 1 Axes>"
      ]
     },
     "metadata": {},
     "output_type": "display_data"
    }
   ],
   "source": [
    "import torch\n",
    "from plot_metrics import plot_train_val_ade\n",
    "checkpoint = torch.load('checkpoint_with_model.pt')\n",
    "plot_train_val_ade(checkpoint)"
   ]
  },
  {
   "cell_type": "code",
   "execution_count": null,
   "metadata": {},
   "outputs": [],
   "source": [
    "# import trajnettools\n",
    "# import numpy as np\n",
    "# import trajnettools\n",
    "# reader = trajnettools.Reader('crowds_students001.ndjson', scene_type=None) # scene_type: None -> numpy.array, 'rows' -> TrackRow and SceneRow, 'paths': grouped rows (primary pedestrian first)\n",
    "# print(reader.scenes_by_id[list(reader.scenes_by_id.keys())[0]])\n",
    "# import trajnettools\n",
    "# reader = trajnettools.Reader('biwi_hotel.ndjson', scene_type=None) # scene_type: None -> numpy.array, 'rows' -> TrackRow and SceneRow, 'paths': grouped rows (primary pedestrian first)\n",
    "# tracks = [s for _, s in reader.scenes()]\n",
    "# print(type(tracks))\n",
    "# print(np.shape(tracks[1]))\n",
    "# print(len(tracks))"
   ]
  },
  {
   "cell_type": "code",
   "execution_count": null,
   "metadata": {},
   "outputs": [],
   "source": [
    "# import numpy as np\n",
    "# import trajnettools\n",
    "# reader = trajnettools.Reader('biwi_hotel.ndjson', scene_type=None) # scene_type: None -> numpy.array, 'rows' -> TrackRow and SceneRow, 'paths': grouped rows (primary pedestrian first)\n",
    "# tracks = [s for _, s in reader.scenes()]\n",
    "# print(type(tracks))\n",
    "# print(np.shape(tracks[1]))\n",
    "# print(len(tracks))"
   ]
  },
  {
   "cell_type": "code",
   "execution_count": 16,
   "metadata": {},
   "outputs": [],
   "source": [
    "import trajnettools\n",
    "import numpy as np\n",
    "import torch\n",
    "train_scenes = list(trajnettools.load_all('datasets/dataset_aux_sgan/train/train/biwi_hotel.ndjson', scene_type=None))"
   ]
  },
  {
   "cell_type": "code",
   "execution_count": 14,
   "metadata": {},
   "outputs": [
    {
     "data": {
      "text/plain": [
       "torch.Size([21, 515, 2])"
      ]
     },
     "execution_count": 14,
     "metadata": {},
     "output_type": "execute_result"
    }
   ],
   "source": [
    "train_scenes = [j for i, j in train_scenes]\n",
    "train_scenes = np.concatenate(train_scenes,axis=1)\n",
    "train_scenes = torch.from_numpy(train_scenes)\n",
    "train_scenes.shape"
   ]
  },
  {
   "cell_type": "code",
   "execution_count": 20,
   "metadata": {},
   "outputs": [
    {
     "name": "stdout",
     "output_type": "stream",
     "text": [
      "515\n"
     ]
    }
   ],
   "source": [
    "c = 0;\n",
    "for i, j in train_scenes:\n",
    "    c = c+len(j[1])\n",
    "    \"\""
   ]
  },
  {
   "cell_type": "code",
   "execution_count": 98,
   "metadata": {},
   "outputs": [],
   "source": [
    "import trajnettools\n",
    "import numpy as np\n",
    "import torch\n",
    "train_scenes = list(trajnettools.load_all('datasets/dataset_aux_sgan/train/train/biwi_hotel.ndjson', scene_type='paths'))"
   ]
  },
  {
   "cell_type": "code",
   "execution_count": 100,
   "metadata": {},
   "outputs": [],
   "source": [
    "c=[]\n",
    "for i, j in train_scenes:\n",
    "    c.append(j)"
   ]
  },
  {
   "cell_type": "code",
   "execution_count": 81,
   "metadata": {},
   "outputs": [],
   "source": [
    "m =[]\n",
    "for i in range(len(train_scenes)):\n",
    "    _, scene = train_scenes[i]\n",
    "    for j in range(len(scene)):\n",
    "        c = np.asarray(scene[j])\n",
    "        m.append(c[:,1])\n",
    "    "
   ]
  },
  {
   "cell_type": "code",
   "execution_count": 89,
   "metadata": {},
   "outputs": [],
   "source": [
    "m = np.concatenate(m, axis=0)"
   ]
  },
  {
   "cell_type": "code",
   "execution_count": 92,
   "metadata": {},
   "outputs": [
    {
     "data": {
      "text/plain": [
       "array([20, 21, 23, 24, 25, 26, 27, 28, 29, 30, 104, 105, 106, 107, 108,\n",
       "       109, 110, 112, 180, 185, 194, 195, 196, 199, 200, 201, 203, 204,\n",
       "       205, 206, 207, 208, 211, 212, 213, 214, 215, 219, 220, 221, 222,\n",
       "       223, 224, 225, 226, 227, 230, 231, 232, 233, 299, 300, 301, 302,\n",
       "       303, 304, 305, 306, 307, 308, 309, 310, 311, 312, 313, 314, 315,\n",
       "       316, 317, 318, 319, 320, 321, 322, 323], dtype=object)"
      ]
     },
     "execution_count": 92,
     "metadata": {},
     "output_type": "execute_result"
    }
   ],
   "source": [
    "np.unique(m)"
   ]
  },
  {
   "cell_type": "code",
   "execution_count": 94,
   "metadata": {},
   "outputs": [],
   "source": [
    "c = np.random.randn(3,5)\n",
    "np.savetxt(\"result.txt\", c)"
   ]
  },
  {
   "cell_type": "code",
   "execution_count": null,
   "metadata": {},
   "outputs": [],
   "source": [
    "train_scenes"
   ]
  },
  {
   "cell_type": "code",
   "execution_count": null,
   "metadata": {},
   "outputs": [],
   "source": []
  },
  {
   "cell_type": "code",
   "execution_count": 1,
   "metadata": {},
   "outputs": [],
   "source": [
    "import trajnettools\n",
    "import numpy as np\n",
    "import torch\n",
    "train_scenes = list(trajnettools.load_all('datasets/dataset_aux_sgan/train/train/*.ndjson', scene_type=None))"
   ]
  },
  {
   "cell_type": "code",
   "execution_count": 2,
   "metadata": {},
   "outputs": [
    {
     "data": {
      "text/plain": [
       "torch.Size([21, 2430393, 2])"
      ]
     },
     "execution_count": 2,
     "metadata": {},
     "output_type": "execute_result"
    }
   ],
   "source": [
    "train_scenes = [j for i, j in train_scenes]\n",
    "train_scenes = np.concatenate(train_scenes,axis=1)\n",
    "train_scenes = torch.from_numpy(train_scenes)\n",
    "train_scenes.shape"
   ]
  },
  {
   "cell_type": "code",
   "execution_count": 7,
   "metadata": {},
   "outputs": [
    {
     "name": "stdout",
     "output_type": "stream",
     "text": [
      "torch.Size([12, 2430393, 2])\n",
      "torch.Size([9, 2430393, 2])\n"
     ]
    }
   ],
   "source": [
    "obs_train = train_scenes[0:12,:,:]\n",
    "print(obs_train.shape)\n",
    "pred_train = train_scenes[12:,:,:]\n",
    "print(pred_train.shape)"
   ]
  },
  {
   "cell_type": "code",
   "execution_count": 11,
   "metadata": {},
   "outputs": [
    {
     "data": {
      "text/plain": [
       "torch.Size([21, 331116, 2])"
      ]
     },
     "execution_count": 11,
     "metadata": {},
     "output_type": "execute_result"
    }
   ],
   "source": [
    "val_scenes = list(trajnettools.load_all('datasets/dataset_aux_sgan/val/val/*.ndjson', scene_type=None))\n",
    "val_scenes = [j for i, j in val_scenes]\n",
    "val_scenes = np.concatenate(val_scenes,axis=1)\n",
    "val_scenes = torch.from_numpy(val_scenes)\n",
    "val_scenes.shape"
   ]
  },
  {
   "cell_type": "code",
   "execution_count": 12,
   "metadata": {},
   "outputs": [
    {
     "data": {
      "text/plain": [
       "tensor(918099)"
      ]
     },
     "execution_count": 12,
     "metadata": {},
     "output_type": "execute_result"
    }
   ],
   "source": [
    "torch.sum(torch.isnan(val_scenes))//2"
   ]
  },
  {
   "cell_type": "code",
   "execution_count": 13,
   "metadata": {},
   "outputs": [
    {
     "data": {
      "text/plain": [
       "tensor(6306359)"
      ]
     },
     "execution_count": 13,
     "metadata": {},
     "output_type": "execute_result"
    }
   ],
   "source": [
    "torch.sum(torch.isnan(train_scenes))//2"
   ]
  },
  {
   "cell_type": "code",
   "execution_count": 14,
   "metadata": {},
   "outputs": [
    {
     "data": {
      "text/plain": [
       "tensor(2)"
      ]
     },
     "execution_count": 14,
     "metadata": {},
     "output_type": "execute_result"
    }
   ],
   "source": [
    "x = torch.tensor([[1, 2], [np.nan, np.nan]])\n",
    "torch.sum(torch.isnan(x))"
   ]
  },
  {
   "cell_type": "code",
   "execution_count": null,
   "metadata": {},
   "outputs": [],
   "source": []
  }
 ],
 "metadata": {
  "kernelspec": {
   "display_name": "Python 2",
   "language": "python",
   "name": "python2"
  },
  "language_info": {
   "codemirror_mode": {
    "name": "ipython",
    "version": 3
   },
   "file_extension": ".py",
   "mimetype": "text/x-python",
   "name": "python",
   "nbconvert_exporter": "python",
   "pygments_lexer": "ipython3",
   "version": "3.5.5"
  }
 },
 "nbformat": 4,
 "nbformat_minor": 2
}
